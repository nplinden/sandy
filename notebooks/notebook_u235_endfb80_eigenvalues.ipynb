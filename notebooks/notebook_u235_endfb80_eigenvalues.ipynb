{
 "cells": [
  {
   "cell_type": "markdown",
   "id": "81571aef-74d6-4632-9d60-b89844e5be2b",
   "metadata": {},
   "source": [
    "# Problems with U-235 xs covariance matrix from ENDF/B-VIII.0"
   ]
  },
  {
   "cell_type": "code",
   "execution_count": null,
   "id": "6900dd29-7a7c-4b4c-85aa-005ff0832200",
   "metadata": {},
   "outputs": [],
   "source": [
    "import sandy\n",
    "import numpy as np\n",
    "from numpy.linalg import eig\n",
    "import pandas as pd\n",
    "from scipy.linalg import svd"
   ]
  },
  {
   "cell_type": "code",
   "execution_count": null,
   "id": "5c40c045-8c28-413c-89c5-d239abc540a5",
   "metadata": {},
   "outputs": [],
   "source": [
    "import matplotlib.pyplot as plt\n",
    "import seaborn as sns"
   ]
  },
  {
   "cell_type": "markdown",
   "id": "f3696343-54f0-4036-8563-a5cf0dd4e374",
   "metadata": {},
   "source": [
    "## Parametric analysis of the covariance matrix using different NJOY energy grids"
   ]
  },
  {
   "cell_type": "markdown",
   "id": "e534e3af-b3f6-411d-af55-5c1a359ad95a",
   "metadata": {},
   "source": [
    "- IGN=2 : SCALE 239 group structure\n",
    "- IGN=3: LANL 30 group structure\n",
    "- IGN=9 : WIMS 69 group structure"
   ]
  },
  {
   "cell_type": "code",
   "execution_count": null,
   "id": "411879f2-894f-4df1-98e4-2ce6efea4d9f",
   "metadata": {},
   "outputs": [],
   "source": [
    "tape = sandy.get_endf6_file(\"endfb_80\", \"xs\", 922350)"
   ]
  },
  {
   "cell_type": "code",
   "execution_count": null,
   "id": "fbec62ac-9c20-43a4-88a3-f3db9c2c58a5",
   "metadata": {},
   "outputs": [],
   "source": [
    "kws = dict(err=1, chi=False, nubar=False, mubar=False,)\n",
    "covs = {\n",
    "    2: tape.get_errorr(**kws, errorr33_kws=dict(ign=2))[\"errorr33\"].get_cov(),\n",
    "    3: tape.get_errorr(**kws, errorr33_kws=dict(ign=3))[\"errorr33\"].get_cov(),\n",
    "    9: tape.get_errorr(**kws, errorr33_kws=dict(ign=9))[\"errorr33\"].get_cov(),\n",
    "}"
   ]
  },
  {
   "cell_type": "markdown",
   "id": "e822da83-1934-47fa-b57b-d14dd9f52054",
   "metadata": {},
   "source": [
    "## Plot correlation matrices and uncertainties"
   ]
  },
  {
   "cell_type": "code",
   "execution_count": null,
   "id": "a3093bca-ac01-4327-b1d8-fb4d253c799e",
   "metadata": {},
   "outputs": [],
   "source": [
    "mts = [1, 2, 4, 18, 102]"
   ]
  },
  {
   "cell_type": "code",
   "execution_count": null,
   "id": "41d30565-c086-4f7d-b588-8b27937f8566",
   "metadata": {},
   "outputs": [],
   "source": [
    "fig, axs = plt.subplots(1, 3, figsize=(15, 5))\n",
    "\n",
    "ax = axs[0]\n",
    "ign = 2\n",
    "idx = pd.IndexSlice\n",
    "c = sandy.CategoryCov(covs[ign].data.loc[\n",
    "    idx[:, mts, :],  # Filter rows with MT in list\n",
    "    idx[:, mts, :]   # Filter columns with MT in list\n",
    "]).get_corr().data\n",
    "c.index = c.columns = c.index.get_level_values(\"MT\")\n",
    "sns.heatmap(c, vmin=-1, vmax=1, cmap=\"bwr\", ax=ax)\n",
    "ax.set(title=f\"IGN {ign}\")\n",
    "size = int(c.shape[0] / len(mts))\n",
    "for i in range(len(mts)):\n",
    "    ax.axhline(size * (i + 1), color=\"k\", lw=.7)\n",
    "    ax.axvline(size * (i + 1), color=\"k\", lw=.7)\n",
    "ax.set_aspect(\"equal\")\n",
    "\n",
    "\n",
    "ax = axs[1]\n",
    "ign = 3\n",
    "idx = pd.IndexSlice\n",
    "c = sandy.CategoryCov(covs[ign].data.loc[\n",
    "    idx[:, mts, :],  # Filter rows with MT in list\n",
    "    idx[:, mts, :]   # Filter columns with MT in list\n",
    "]).get_corr().data\n",
    "c.index = c.columns = c.index.get_level_values(\"MT\")\n",
    "sns.heatmap(c, vmin=-1, vmax=1, cmap=\"bwr\", ax=ax)\n",
    "ax.set(title=f\"IGN {ign}\")\n",
    "size = int(c.shape[0] / len(mts))\n",
    "for i in range(len(mts)):\n",
    "    ax.axhline(size * (i + 1), color=\"k\", lw=.7)\n",
    "    ax.axvline(size * (i + 1), color=\"k\", lw=.7)\n",
    "ax.set_aspect(\"equal\")\n",
    "\n",
    "ax = axs[2]\n",
    "ign = 9\n",
    "idx = pd.IndexSlice\n",
    "c = sandy.CategoryCov(covs[ign].data.loc[\n",
    "    idx[:, mts, :],  # Filter rows with MT in list\n",
    "    idx[:, mts, :]   # Filter columns with MT in list\n",
    "]).get_corr().data\n",
    "c.index = c.columns = c.index.get_level_values(\"MT\")\n",
    "sns.heatmap(c, vmin=-1, vmax=1, cmap=\"bwr\", ax=ax)\n",
    "ax.set(title=f\"IGN {ign}\")\n",
    "size = int(c.shape[0] / len(mts))\n",
    "for i in range(len(mts)):\n",
    "    ax.axhline(size * (i + 1), color=\"k\", lw=.7)\n",
    "    ax.axvline(size * (i + 1), color=\"k\", lw=.7)\n",
    "ax.set_aspect(\"equal\")"
   ]
  },
  {
   "cell_type": "markdown",
   "id": "0f31c0d0-5d12-4f39-a8bb-aace14bcf19a",
   "metadata": {},
   "source": [
    "Strong anti-correlation between thermal fission and fast capture."
   ]
  },
  {
   "cell_type": "code",
   "execution_count": null,
   "id": "67330f2e-fbf9-40ca-8d1f-7e5fe3656872",
   "metadata": {},
   "outputs": [],
   "source": [
    "fig, axs = plt.subplots(1, 3, figsize=(15, 5), sharex=True, sharey=True)\n",
    "\n",
    "ax = axs[0]\n",
    "s = covs[2].get_std().multiply(100).reset_index().pivot_table(index=\"E\", columns=\"MT\", values=\"STD\")[mts]\n",
    "s.index = [x.right for x in s.index]\n",
    "s.plot(ax=ax, drawstyle=\"steps-pre\", logx=True)\n",
    "\n",
    "ax = axs[1]\n",
    "s = covs[3].get_std().multiply(100).reset_index().pivot_table(index=\"E\", columns=\"MT\", values=\"STD\")[mts]\n",
    "s.index = [x.right for x in s.index]\n",
    "s.plot(ax=ax, drawstyle=\"steps-pre\", logx=True)\n",
    "\n",
    "ax = axs[2]\n",
    "s = covs[9].get_std().multiply(100).reset_index().pivot_table(index=\"E\", columns=\"MT\", values=\"STD\")[mts]\n",
    "s.index = [x.right for x in s.index]\n",
    "s.plot(ax=ax, drawstyle=\"steps-pre\", logx=True)\n",
    "ax.set(xlim=(5e-1, 2e7))\n",
    "\n",
    "fig.tight_layout()"
   ]
  },
  {
   "cell_type": "markdown",
   "id": "14125d42-92f0-46e7-a7f8-c63d5fa8fcb3",
   "metadata": {},
   "source": [
    "Large uncertainty on inelastic scattering just above the threshold (where the xs is low), combined with strong positive correlation with elastic scattering."
   ]
  },
  {
   "cell_type": "markdown",
   "id": "28d59086-0f91-4597-bb70-38ca3b8651f0",
   "metadata": {},
   "source": [
    "## Eigenvalue analysis"
   ]
  },
  {
   "cell_type": "code",
   "execution_count": null,
   "id": "a26a5324-965f-4c5b-8aa1-8a118ae7e33f",
   "metadata": {},
   "outputs": [],
   "source": [
    "keep = 20\n",
    "pd.DataFrame({\n",
    "    \"IGN 2\": sandy.CategoryCov(covs[2].data.loc[\n",
    "                         idx[:, mts, :],  # Filter rows with MT in list\n",
    "                         idx[:, mts, :]   # Filter columns with MT in list\n",
    "                         ]).get_eig()[0].head(keep),\n",
    "    \"IGN 3\": sandy.CategoryCov(covs[3].data.loc[\n",
    "                         idx[:, mts, :],  # Filter rows with MT in list\n",
    "                         idx[:, mts, :]   # Filter columns with MT in list\n",
    "                         ]).get_eig()[0].head(keep),\n",
    "    \"IGN 9\": sandy.CategoryCov(covs[9].data.loc[\n",
    "                         idx[:, mts, :],  # Filter rows with MT in list\n",
    "                         idx[:, mts, :]   # Filter columns with MT in list\n",
    "                         ]).get_eig()[0].head(keep),\n",
    "})"
   ]
  },
  {
   "cell_type": "markdown",
   "id": "a9662471-492b-4ca4-bb8c-1047c2e263b0",
   "metadata": {},
   "source": [
    "Large negative eigenvalues."
   ]
  },
  {
   "cell_type": "markdown",
   "id": "aa2f2c7d-98f3-4253-8114-96b331e2d585",
   "metadata": {},
   "source": [
    "The covariance matrix is not positive-definite (hence it is not a cvoariance matrix)!\n",
    "The covariance information cannot be preserved in the sample, independently from teh samples size."
   ]
  },
  {
   "cell_type": "markdown",
   "id": "737c0e1e-f8d7-4d45-a492-7e49de099f56",
   "metadata": {},
   "source": [
    "The same conclusions can be drawn from SVD, with the matrices U and V.T not being identical."
   ]
  },
  {
   "cell_type": "code",
   "execution_count": null,
   "id": "2f24f9aa-a909-4a05-b72d-04d07429a48f",
   "metadata": {},
   "outputs": [],
   "source": [
    "U, S, V = svd(sandy.CategoryCov(covs[2].data.loc[\n",
    "                         idx[:, mts, :],  # Filter rows with MT in list\n",
    "                         idx[:, mts, :]   # Filter columns with MT in list\n",
    "                         ]).data)"
   ]
  },
  {
   "cell_type": "code",
   "execution_count": null,
   "id": "710bd606-f7d4-4a1f-9b35-42547b0c9a50",
   "metadata": {},
   "outputs": [],
   "source": [
    "fig, axs = plt.subplots(1, 2, figsize=(8, 4))\n",
    "\n",
    "ax = axs[0]\n",
    "ax.set_aspect(\"equal\")\n",
    "sns.heatmap(U, cmap=\"bwr\", vmin=-0.6, vmax=0.6, ax=ax)\n",
    "ax.set(title=\"U matrix\")\n",
    "ax = axs[1]\n",
    "ax.set_aspect(\"equal\")\n",
    "sns.heatmap(V.T, cmap=\"bwr\", vmin=-0.6, vmax=0.6, ax=ax)\n",
    "ax.set(title=\"V matrix\")\n",
    "fig.tight_layout()"
   ]
  }
 ],
 "metadata": {
  "kernelspec": {
   "display_name": "sandy-devel",
   "language": "python",
   "name": "sandy-devel"
  },
  "language_info": {
   "codemirror_mode": {
    "name": "ipython",
    "version": 3
   },
   "file_extension": ".py",
   "mimetype": "text/x-python",
   "name": "python",
   "nbconvert_exporter": "python",
   "pygments_lexer": "ipython3",
   "version": "3.12.3"
  }
 },
 "nbformat": 4,
 "nbformat_minor": 5
}
